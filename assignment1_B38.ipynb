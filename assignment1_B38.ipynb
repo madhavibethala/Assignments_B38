{
 "cells": [
  {
   "cell_type": "code",
   "execution_count": 1,
   "metadata": {},
   "outputs": [],
   "source": [
    "Problem 1:\n",
    "def city_country(city_name,country_name):\n",
    "    \"\"\"return city name along with country name\"\"\"\n",
    "    fullname=f\"{city_name},{country_name}\"\n",
    "    return fullname.title()\n"
   ]
  },
  {
   "cell_type": "code",
   "execution_count": 3,
   "metadata": {},
   "outputs": [
    {
     "name": "stdout",
     "output_type": "stream",
     "text": [
      "Hyderabad,India\n"
     ]
    }
   ],
   "source": [
    "x=city_country('hyderabad','india')\n",
    "print(x)"
   ]
  },
  {
   "cell_type": "code",
   "execution_count": 4,
   "metadata": {},
   "outputs": [
    {
     "name": "stdout",
     "output_type": "stream",
     "text": [
      "Santiago,Chile\n"
     ]
    }
   ],
   "source": [
    "x=city_country('santiago','chile')\n",
    "print(x)"
   ]
  },
  {
   "cell_type": "code",
   "execution_count": 5,
   "metadata": {},
   "outputs": [
    {
     "name": "stdout",
     "output_type": "stream",
     "text": [
      "Paris,France\n"
     ]
    }
   ],
   "source": [
    "x=city_country('paris','france')\n",
    "print(x)"
   ]
  },
  {
   "cell_type": "code",
   "execution_count": 20,
   "metadata": {},
   "outputs": [],
   "source": [
    "#problem 2:\n",
    "def make_sandwich(*toppings):\n",
    "    \"\"\"print list of items for sandwich\"\"\"\n",
    "    print(f\" my sandwich toppings are:\" ,(toppings))"
   ]
  },
  {
   "cell_type": "code",
   "execution_count": 21,
   "metadata": {},
   "outputs": [
    {
     "name": "stdout",
     "output_type": "stream",
     "text": [
      " my sandwich toppings are: ('aloo', 'corn')\n"
     ]
    }
   ],
   "source": [
    "make_sandwich(\"aloo\",\"corn\")"
   ]
  },
  {
   "cell_type": "code",
   "execution_count": 22,
   "metadata": {},
   "outputs": [
    {
     "name": "stdout",
     "output_type": "stream",
     "text": [
      " my sandwich toppings are: ('cheese', 'paneer', 'onion')\n"
     ]
    }
   ],
   "source": [
    "make_sandwich('cheese','paneer','onion')"
   ]
  },
  {
   "cell_type": "code",
   "execution_count": 23,
   "metadata": {},
   "outputs": [
    {
     "name": "stdout",
     "output_type": "stream",
     "text": [
      " my sandwich toppings are: ('chicken',)\n"
     ]
    }
   ],
   "source": [
    "make_sandwich('chicken')"
   ]
  },
  {
   "cell_type": "code",
   "execution_count": 1,
   "metadata": {},
   "outputs": [],
   "source": [
    "#problem3:9.1"
   ]
  },
  {
   "cell_type": "code",
   "execution_count": 21,
   "metadata": {},
   "outputs": [],
   "source": [
    "class Restaurant:\n",
    "    \"\"\"creating Restaurant class \"\"\"\n",
    "    def __init__(self,restaurant_name,cuisine_type) :\n",
    "        self.restaurant_name=restaurant_name\n",
    "        self.cuisine_type=cuisine_type\n",
    "        print(self.restaurant_name.title())\n",
    "        print(self.cuisine_type.title())\n",
    "    def describe_restaurant(self) :\n",
    "        print(f\"{self.restaurant_name.title()} Restaurant ,{self.cuisine_type.title()}\")\n",
    "    def open_restaurant(self) :  \n",
    "        print(f\"{self.restaurant_name.title()} Restaurant is now open\")\n",
    "        \n",
    "    "
   ]
  },
  {
   "cell_type": "code",
   "execution_count": 23,
   "metadata": {},
   "outputs": [
    {
     "name": "stdout",
     "output_type": "stream",
     "text": [
      "Nagarjuna\n",
      "Andhrastyle\n"
     ]
    }
   ],
   "source": [
    "test=Restaurant('nagarjuna','andhrastyle')\n"
   ]
  },
  {
   "cell_type": "code",
   "execution_count": 24,
   "metadata": {},
   "outputs": [
    {
     "name": "stdout",
     "output_type": "stream",
     "text": [
      "Nagarjuna Restaurant ,Andhrastyle\n"
     ]
    }
   ],
   "source": [
    "test.describe_restaurant()"
   ]
  },
  {
   "cell_type": "code",
   "execution_count": 25,
   "metadata": {},
   "outputs": [
    {
     "name": "stdout",
     "output_type": "stream",
     "text": [
      "Nagarjuna Restaurant is now open\n"
     ]
    }
   ],
   "source": [
    "test.open_restaurant()"
   ]
  },
  {
   "cell_type": "code",
   "execution_count": 26,
   "metadata": {},
   "outputs": [],
   "source": [
    "#problem 3: 9-2"
   ]
  },
  {
   "cell_type": "code",
   "execution_count": 31,
   "metadata": {},
   "outputs": [
    {
     "name": "stdout",
     "output_type": "stream",
     "text": [
      "Udipi Park\n",
      "Karnataka\n",
      "Udipi Park Restaurant ,Karnataka\n",
      "Udipi Park Restaurant is now open\n",
      "Rajdhani\n",
      "North Indian Style\n",
      "Rajdhani Restaurant ,North Indian Style\n",
      "Rajdhani Restaurant is now open\n",
      "Green Hyderabadhi\n",
      "Biryani House\n",
      "Green Hyderabadhi Restaurant ,Biryani House\n",
      "Green Hyderabadhi Restaurant is now open\n"
     ]
    }
   ],
   "source": [
    "rest1=Restaurant('udipi park','karnataka')\n",
    "rest1.describe_restaurant()\n",
    "rest1.open_restaurant()\n",
    "rest2=Restaurant('rajdhani','north indian style')\n",
    "rest2.describe_restaurant()\n",
    "rest2.open_restaurant()\n",
    "rest3=Restaurant('green hyderabadhi','biryani house')\n",
    "rest3.describe_restaurant()\n",
    "rest3.open_restaurant()"
   ]
  },
  {
   "cell_type": "code",
   "execution_count": 3,
   "metadata": {},
   "outputs": [],
   "source": [
    "class User:    \n",
    "    \"\"\"creating user profile\"\"\"\n",
    "    def describe_user(self,first_name,last_name,mobile_num,email_id,dob):\n",
    "       # print(dob)\n",
    "        self.first_name=first_name\n",
    "        self.last_name=last_name\n",
    "        self.mobile_num=mobile_num\n",
    "        self.email_id=email_id\n",
    "        self.dob=dob\n",
    "   \n",
    "        print(f\" Name is {self.first_name.title()} {self.last_name.title()}\") \n",
    "        print(f\" mobile no : {self.mobile_num}\")\n",
    "        print(f\" email id  : {self.email_id}\")\n",
    "        print(f\" dob  : {self.dob}\") \n",
    "    def greet_user(self):\n",
    "        print(f\" Hello {self.first_name.title()} {self.last_name.title()} , congratulation ur successfully logged in\")      \n",
    "            "
   ]
  },
  {
   "cell_type": "code",
   "execution_count": 4,
   "metadata": {},
   "outputs": [
    {
     "name": "stdout",
     "output_type": "stream",
     "text": [
      " Name is Madhu Bethala\n",
      " mobile no : 8050060356\n",
      " email id  : madhu.528@gmail.com\n",
      " dob  : 1979-5-27\n",
      " Hello Madhu Bethala , congratulation ur successfully logged in\n"
     ]
    }
   ],
   "source": [
    "user_obj=User()\n",
    "user_obj.describe_user( 'madhu', 'bethala', 8050060356, 'madhu.528@gmail.com','1979-5-27')\n",
    "user_obj.greet_user()"
   ]
  },
  {
   "cell_type": "code",
   "execution_count": null,
   "metadata": {},
   "outputs": [],
   "source": []
  },
  {
   "cell_type": "code",
   "execution_count": null,
   "metadata": {},
   "outputs": [],
   "source": []
  }
 ],
 "metadata": {
  "kernelspec": {
   "display_name": "Python 3",
   "language": "python",
   "name": "python3"
  },
  "language_info": {
   "codemirror_mode": {
    "name": "ipython",
    "version": 3
   },
   "file_extension": ".py",
   "mimetype": "text/x-python",
   "name": "python",
   "nbconvert_exporter": "python",
   "pygments_lexer": "ipython3",
   "version": "3.8.5"
  }
 },
 "nbformat": 4,
 "nbformat_minor": 4
}
